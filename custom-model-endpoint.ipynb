{
 "cells": [
  {
   "cell_type": "code",
   "execution_count": 45,
   "id": "36ee2c8e",
   "metadata": {},
   "outputs": [],
   "source": [
    "import boto3\n",
    "\n",
    "client = boto3.client('sagemaker')\n",
    "\n",
    "response = client.create_model(\n",
    "    ModelName='my-custom-sklearn-model',\n",
    "    PrimaryContainer={\n",
    "        'Image': '039714169028.dkr.ecr.us-east-1.amazonaws.com/custom-app-image:latest',\n",
    "        'Environment': {\n",
    "            'SAGEMAKER_PROGRAM': 'inference.py'\n",
    "        }\n",
    "    },\n",
    "    ExecutionRoleArn='arn:aws:iam::039714169028:role/sagemaker-onelab'\n",
    ")\n"
   ]
  },
  {
   "cell_type": "code",
   "execution_count": 46,
   "id": "710cc279",
   "metadata": {},
   "outputs": [],
   "source": [
    "response = client.create_endpoint_config(\n",
    "    EndpointConfigName='my-custom-sklearn-endpoint-config',\n",
    "    ProductionVariants=[\n",
    "        {\n",
    "            'VariantName': 'AllTraffic',\n",
    "            'ModelName': 'my-custom-sklearn-model',\n",
    "            'InitialInstanceCount': 1,\n",
    "            'InstanceType': 'ml.t2.medium',\n",
    "            'InitialVariantWeight': 1.0,\n",
    "        },\n",
    "    ]\n",
    ")\n"
   ]
  },
  {
   "cell_type": "code",
   "execution_count": 47,
   "id": "37a6cf97",
   "metadata": {},
   "outputs": [],
   "source": [
    "response = client.create_endpoint(\n",
    "    EndpointName='my-custom-sklearn-endpoint',\n",
    "    EndpointConfigName='my-custom-sklearn-endpoint-config',\n",
    ")\n"
   ]
  },
  {
   "cell_type": "code",
   "execution_count": 51,
   "id": "20103a7d",
   "metadata": {},
   "outputs": [
    {
     "name": "stdout",
     "output_type": "stream",
     "text": [
      "{'sentiment': 'Positive'}\n"
     ]
    }
   ],
   "source": [
    "import boto3\n",
    "import json\n",
    "\n",
    "runtime = boto3.client('runtime.sagemaker')\n",
    "\n",
    "input_data = {'text': 'sample text for prediction'}\n",
    "\n",
    "response = runtime.invoke_endpoint(\n",
    "    EndpointName='my-custom-sklearn-endpoint',\n",
    "    ContentType='application/json',\n",
    "    Body=json.dumps(input_data)\n",
    ")\n",
    "\n",
    "result = json.loads(response['Body'].read().decode())\n",
    "print(result)\n"
   ]
  },
  {
   "cell_type": "code",
   "execution_count": 52,
   "id": "8f15b697",
   "metadata": {},
   "outputs": [
    {
     "name": "stdout",
     "output_type": "stream",
     "text": [
      "{'Endpoints': [{'EndpointName': 'my-custom-sklearn-endpoint', 'EndpointArn': 'arn:aws:sagemaker:us-east-1:039714169028:endpoint/my-custom-sklearn-endpoint', 'CreationTime': datetime.datetime(2024, 9, 4, 17, 21, 30, 792000, tzinfo=tzlocal()), 'LastModifiedTime': datetime.datetime(2024, 9, 4, 17, 24, 38, 524000, tzinfo=tzlocal()), 'EndpointStatus': 'InService'}, {'EndpointName': 'fastapi-sentiment-classifier', 'EndpointArn': 'arn:aws:sagemaker:us-east-1:039714169028:endpoint/fastapi-sentiment-classifier', 'CreationTime': datetime.datetime(2024, 9, 4, 12, 4, 50, 166000, tzinfo=tzlocal()), 'LastModifiedTime': datetime.datetime(2024, 9, 4, 12, 8, 1, 223000, tzinfo=tzlocal()), 'EndpointStatus': 'InService'}, {'EndpointName': 'sentiment-sagemaker-endpoint', 'EndpointArn': 'arn:aws:sagemaker:us-east-1:039714169028:endpoint/sentiment-sagemaker-endpoint', 'CreationTime': datetime.datetime(2024, 9, 4, 10, 55, 59, 732000, tzinfo=tzlocal()), 'LastModifiedTime': datetime.datetime(2024, 9, 4, 11, 0, 45, 873000, tzinfo=tzlocal()), 'EndpointStatus': 'Failed'}], 'ResponseMetadata': {'RequestId': 'c276dbf6-18f1-4652-a39e-4c2159d4c52b', 'HTTPStatusCode': 200, 'HTTPHeaders': {'x-amzn-requestid': 'c276dbf6-18f1-4652-a39e-4c2159d4c52b', 'content-type': 'application/x-amz-json-1.1', 'content-length': '728', 'date': 'Wed, 04 Sep 2024 12:03:18 GMT'}, 'RetryAttempts': 0}}\n"
     ]
    }
   ],
   "source": [
    "import boto3\n",
    "\n",
    "sagemaker = boto3.client('sagemaker', region_name='us-east-1')\n",
    "response = sagemaker.list_endpoints()\n",
    "print(response)"
   ]
  },
  {
   "cell_type": "code",
   "execution_count": null,
   "id": "52af5c2d",
   "metadata": {},
   "outputs": [],
   "source": []
  },
  {
   "cell_type": "markdown",
   "id": "197e6171",
   "metadata": {},
   "source": [
    "# deleting endpoints, models and configurations"
   ]
  },
  {
   "cell_type": "code",
   "execution_count": 41,
   "id": "7e20ce00",
   "metadata": {},
   "outputs": [
    {
     "name": "stdout",
     "output_type": "stream",
     "text": [
      "Endpoint my-custom-sklearn-endpoint has been deleted.\n"
     ]
    }
   ],
   "source": [
    "import boto3\n",
    "\n",
    "# Initialize the SageMaker client\n",
    "sagemaker = boto3.client('sagemaker', region_name='us-east-1')  # Replace with your region\n",
    "\n",
    "# Define the endpoint name\n",
    "endpoint_name = 'my-custom-sklearn-endpoint'  # Replace with your endpoint name\n",
    "\n",
    "# Delete the endpoint\n",
    "try:\n",
    "    response = sagemaker.delete_endpoint(EndpointName=endpoint_name)\n",
    "    print(f\"Endpoint {endpoint_name} has been deleted.\")\n",
    "except Exception as e:\n",
    "    print(f\"Error deleting endpoint: {e}\")"
   ]
  },
  {
   "cell_type": "code",
   "execution_count": 42,
   "id": "de5081a0",
   "metadata": {},
   "outputs": [
    {
     "name": "stdout",
     "output_type": "stream",
     "text": [
      "Error deleting model: An error occurred (ValidationException) when calling the DeleteModel operation: Could not find model \"my-custom-sklearn-model\".\n"
     ]
    }
   ],
   "source": [
    "import boto3\n",
    "\n",
    "# Initialize the SageMaker client\n",
    "sagemaker = boto3.client('sagemaker', region_name='us-east-1')  # Replace with your region\n",
    "\n",
    "# Define the model name\n",
    "model_name = 'my-custom-sklearn-model'  # Replace with your model name\n",
    "\n",
    "# Delete the model\n",
    "try:\n",
    "    response = sagemaker.delete_model(ModelName=model_name)\n",
    "    print(f\"Model {model_name} has been deleted.\")\n",
    "except Exception as e:\n",
    "    print(f\"Error deleting model: {e}\")\n"
   ]
  },
  {
   "cell_type": "code",
   "execution_count": 43,
   "id": "089560be",
   "metadata": {},
   "outputs": [
    {
     "name": "stdout",
     "output_type": "stream",
     "text": [
      "Error deleting endpoint configuration: An error occurred (ValidationException) when calling the DeleteEndpointConfig operation: Could not find endpoint configuration \"my-custom-sklearn-endpoint-config\".\n"
     ]
    }
   ],
   "source": [
    "# Define the endpoint configuration name\n",
    "endpoint_config_name = 'my-custom-sklearn-endpoint-config'  # Replace with your endpoint configuration name\n",
    "\n",
    "# Delete the endpoint configuration\n",
    "try:\n",
    "    response = sagemaker.delete_endpoint_config(EndpointConfigName=endpoint_config_name)\n",
    "    print(f\"Endpoint configuration {endpoint_config_name} has been deleted.\")\n",
    "except Exception as e:\n",
    "    print(f\"Error deleting endpoint configuration: {e}\")"
   ]
  },
  {
   "cell_type": "code",
   "execution_count": null,
   "id": "920344b2",
   "metadata": {},
   "outputs": [],
   "source": []
  }
 ],
 "metadata": {
  "kernelspec": {
   "display_name": "Python 3 (ipykernel)",
   "language": "python",
   "name": "python3"
  },
  "language_info": {
   "codemirror_mode": {
    "name": "ipython",
    "version": 3
   },
   "file_extension": ".py",
   "mimetype": "text/x-python",
   "name": "python",
   "nbconvert_exporter": "python",
   "pygments_lexer": "ipython3",
   "version": "3.11.5"
  }
 },
 "nbformat": 4,
 "nbformat_minor": 5
}
